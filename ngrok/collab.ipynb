{
  "nbformat": 4,
  "nbformat_minor": 0,
  "metadata": {
    "colab": {
      "provenance": []
    },
    "kernelspec": {
      "name": "python3",
      "display_name": "Python 3"
    },
    "language_info": {
      "name": "python"
    }
  },
  "cells": [
    {
      "cell_type": "code",
      "source": [
        "!apt-get update && apt-get install pciutils coreutils -y\n",
        "!curl -fsSL https://ollama.com/install.sh | sh\n",
        "!nohup ollama serve &"
      ],
      "metadata": {
        "id": "7bmhZmAeM87M"
      },
      "execution_count": null,
      "outputs": []
    },
    {
      "cell_type": "code",
      "source": [
        "!echo llama3:8b > llm"
      ],
      "metadata": {
        "id": "jE68c8sfvZec"
      },
      "execution_count": null,
      "outputs": []
    },
    {
      "cell_type": "code",
      "source": [
        "!echo dolphin-phi > llm"
      ],
      "metadata": {
        "id": "uQvpEkYcvaGQ"
      },
      "execution_count": null,
      "outputs": []
    },
    {
      "cell_type": "code",
      "source": [
        "!nohup ollama serve &"
      ],
      "metadata": {
        "id": "0WJPtr7dtoYY"
      },
      "execution_count": null,
      "outputs": []
    },
    {
      "cell_type": "code",
      "source": [
        "!ollama list && ollama pull $(cat llm) 2>/dev/null && ollama list"
      ],
      "metadata": {
        "collapsed": true,
        "id": "QatoQBYXvYFa"
      },
      "execution_count": null,
      "outputs": []
    },
    {
      "cell_type": "code",
      "source": [
        "!bash -c 'lsof -i -n  | grep ollama'"
      ],
      "metadata": {
        "id": "gTZA3kxntdW1"
      },
      "execution_count": null,
      "outputs": []
    },
    {
      "cell_type": "code",
      "source": [
        "# Example of curl to local to test the model. Make sure to use the correct model. Change to ngrok URL if needed.\n",
        "!curl -X POST http://localhost:11434/api/generate -d '{ \"model\": \"llama3:8b\", \"prompt\": \"Why the sky is blue? make a very short awswer with 50 tokens\", \"stream\": false }'"
      ],
      "metadata": {
        "id": "IuJDW4CYK3Ch"
      },
      "execution_count": null,
      "outputs": []
    },
    {
      "cell_type": "code",
      "source": [
        "!pip install -q aiohttp pyngrok"
      ],
      "metadata": {
        "id": "Kj5AslH5vAcI"
      },
      "execution_count": null,
      "outputs": []
    },
    {
      "cell_type": "code",
      "source": [
        "import os\n",
        "import asyncio\n",
        "\n",
        "# Set LD_LIBRARY_PATH so the system NVIDIA library\n",
        "os.environ.update({'LD_LIBRARY_PATH': '/usr/lib64-nvidia'})\n",
        "\n",
        "async def run_process(cmd):\n",
        "  print('>>> starting', *cmd)\n",
        "  p = await asyncio.subprocess.create_subprocess_exec(\n",
        "      *cmd,\n",
        "      stdout=asyncio.subprocess.PIPE,\n",
        "      stderr=asyncio.subprocess.PIPE,\n",
        "  )\n",
        "\n",
        "  async def pipe(lines):\n",
        "    async for line in lines:\n",
        "      print(line.strip().decode('utf-8'))\n",
        "\n",
        "  await asyncio.gather(\n",
        "      pipe(p.stdout),\n",
        "      pipe(p.stderr),\n",
        "  )\n",
        "\n",
        "#register an account at ngrok.com and create an authtoken and place it here\n",
        "await asyncio.gather(\n",
        "    run_process(['ngrok', 'config', 'add-authtoken','REPLACE_YOUR_NGROK_TOKEN_HERE'])\n",
        ")\n",
        "\n",
        "await asyncio.gather(\n",
        "    #run_process(['ollama', 'serve']),\n",
        "    run_process(['ngrok', 'http', '--log', 'stderr', '11434', '--host-header', 'localhost:11434'])\n",
        ")"
      ],
      "metadata": {
        "id": "Uf8QwcbjIRgG"
      },
      "execution_count": null,
      "outputs": []
    }
  ]
}